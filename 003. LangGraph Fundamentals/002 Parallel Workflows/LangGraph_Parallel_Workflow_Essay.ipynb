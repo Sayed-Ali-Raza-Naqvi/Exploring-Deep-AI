{
  "nbformat": 4,
  "nbformat_minor": 0,
  "metadata": {
    "colab": {
      "provenance": []
    },
    "kernelspec": {
      "name": "python3",
      "display_name": "Python 3"
    },
    "language_info": {
      "name": "python"
    }
  },
  "cells": [
    {
      "cell_type": "code",
      "execution_count": 1,
      "metadata": {
        "colab": {
          "base_uri": "https://localhost:8080/"
        },
        "id": "CuN_ugBE0UOY",
        "outputId": "d214cbaf-f3e1-4d05-ea8e-2a772b1797cf"
      },
      "outputs": [
        {
          "output_type": "stream",
          "name": "stdout",
          "text": [
            "Requirement already satisfied: langchain in /usr/local/lib/python3.11/dist-packages (0.3.26)\n",
            "Collecting langgraph\n",
            "  Downloading langgraph-0.5.3-py3-none-any.whl.metadata (6.9 kB)\n",
            "Collecting langchain-google-genai\n",
            "  Downloading langchain_google_genai-2.1.8-py3-none-any.whl.metadata (7.0 kB)\n",
            "Requirement already satisfied: google-generativeai in /usr/local/lib/python3.11/dist-packages (0.8.5)\n",
            "Requirement already satisfied: langchain-core<1.0.0,>=0.3.66 in /usr/local/lib/python3.11/dist-packages (from langchain) (0.3.69)\n",
            "Requirement already satisfied: langchain-text-splitters<1.0.0,>=0.3.8 in /usr/local/lib/python3.11/dist-packages (from langchain) (0.3.8)\n",
            "Requirement already satisfied: langsmith>=0.1.17 in /usr/local/lib/python3.11/dist-packages (from langchain) (0.4.6)\n",
            "Requirement already satisfied: pydantic<3.0.0,>=2.7.4 in /usr/local/lib/python3.11/dist-packages (from langchain) (2.11.7)\n",
            "Requirement already satisfied: SQLAlchemy<3,>=1.4 in /usr/local/lib/python3.11/dist-packages (from langchain) (2.0.41)\n",
            "Requirement already satisfied: requests<3,>=2 in /usr/local/lib/python3.11/dist-packages (from langchain) (2.32.3)\n",
            "Requirement already satisfied: PyYAML>=5.3 in /usr/local/lib/python3.11/dist-packages (from langchain) (6.0.2)\n",
            "Collecting langgraph-checkpoint<3.0.0,>=2.1.0 (from langgraph)\n",
            "  Downloading langgraph_checkpoint-2.1.1-py3-none-any.whl.metadata (4.2 kB)\n",
            "Collecting langgraph-prebuilt<0.6.0,>=0.5.0 (from langgraph)\n",
            "  Downloading langgraph_prebuilt-0.5.2-py3-none-any.whl.metadata (4.5 kB)\n",
            "Collecting langgraph-sdk<0.2.0,>=0.1.42 (from langgraph)\n",
            "  Downloading langgraph_sdk-0.1.73-py3-none-any.whl.metadata (1.5 kB)\n",
            "Requirement already satisfied: xxhash>=3.5.0 in /usr/local/lib/python3.11/dist-packages (from langgraph) (3.5.0)\n",
            "Collecting filetype<2.0.0,>=1.2.0 (from langchain-google-genai)\n",
            "  Downloading filetype-1.2.0-py2.py3-none-any.whl.metadata (6.5 kB)\n",
            "Collecting google-ai-generativelanguage<0.7.0,>=0.6.18 (from langchain-google-genai)\n",
            "  Downloading google_ai_generativelanguage-0.6.18-py3-none-any.whl.metadata (9.8 kB)\n",
            "INFO: pip is looking at multiple versions of google-generativeai to determine which version is compatible with other requirements. This could take a while.\n",
            "Collecting google-generativeai\n",
            "  Downloading google_generativeai-0.8.4-py3-none-any.whl.metadata (4.2 kB)\n",
            "  Downloading google_generativeai-0.8.3-py3-none-any.whl.metadata (3.9 kB)\n",
            "  Downloading google_generativeai-0.8.2-py3-none-any.whl.metadata (3.9 kB)\n",
            "  Downloading google_generativeai-0.8.1-py3-none-any.whl.metadata (3.9 kB)\n",
            "  Downloading google_generativeai-0.8.0-py3-none-any.whl.metadata (3.9 kB)\n",
            "  Downloading google_generativeai-0.7.2-py3-none-any.whl.metadata (4.0 kB)\n",
            "  Downloading google_generativeai-0.7.1-py3-none-any.whl.metadata (3.9 kB)\n",
            "INFO: pip is still looking at multiple versions of google-generativeai to determine which version is compatible with other requirements. This could take a while.\n",
            "  Downloading google_generativeai-0.7.0-py3-none-any.whl.metadata (3.9 kB)\n",
            "  Downloading google_generativeai-0.6.0-py3-none-any.whl.metadata (3.9 kB)\n",
            "  Downloading google_generativeai-0.5.4-py3-none-any.whl.metadata (3.9 kB)\n",
            "  Downloading google_generativeai-0.5.3-py3-none-any.whl.metadata (3.9 kB)\n",
            "  Downloading google_generativeai-0.5.2-py3-none-any.whl.metadata (3.9 kB)\n",
            "INFO: This is taking longer than usual. You might need to provide the dependency resolver with stricter constraints to reduce runtime. See https://pip.pypa.io/warnings/backtracking for guidance. If you want to abort this run, press Ctrl + C.\n",
            "  Downloading google_generativeai-0.5.1-py3-none-any.whl.metadata (3.9 kB)\n",
            "  Downloading google_generativeai-0.5.0-py3-none-any.whl.metadata (3.9 kB)\n",
            "  Downloading google_generativeai-0.4.1-py3-none-any.whl.metadata (6.2 kB)\n",
            "  Downloading google_generativeai-0.4.0-py3-none-any.whl.metadata (6.2 kB)\n",
            "  Downloading google_generativeai-0.3.2-py3-none-any.whl.metadata (5.9 kB)\n",
            "  Downloading google_generativeai-0.3.1-py3-none-any.whl.metadata (5.9 kB)\n",
            "  Downloading google_generativeai-0.3.0-py3-none-any.whl.metadata (5.8 kB)\n",
            "  Downloading google_generativeai-0.2.2-py3-none-any.whl.metadata (3.1 kB)\n",
            "  Downloading google_generativeai-0.2.1-py3-none-any.whl.metadata (3.1 kB)\n",
            "  Downloading google_generativeai-0.2.0-py3-none-any.whl.metadata (3.1 kB)\n",
            "  Downloading google_generativeai-0.1.0-py3-none-any.whl.metadata (3.0 kB)\n",
            "Collecting langchain-google-genai\n",
            "  Downloading langchain_google_genai-2.1.7-py3-none-any.whl.metadata (7.0 kB)\n",
            "  Downloading langchain_google_genai-2.1.6-py3-none-any.whl.metadata (7.0 kB)\n",
            "  Downloading langchain_google_genai-2.1.5-py3-none-any.whl.metadata (5.2 kB)\n",
            "  Downloading langchain_google_genai-2.1.4-py3-none-any.whl.metadata (5.2 kB)\n",
            "  Downloading langchain_google_genai-2.1.3-py3-none-any.whl.metadata (4.7 kB)\n",
            "  Downloading langchain_google_genai-2.1.2-py3-none-any.whl.metadata (4.7 kB)\n",
            "  Downloading langchain_google_genai-2.1.1-py3-none-any.whl.metadata (4.7 kB)\n",
            "  Downloading langchain_google_genai-2.1.0-py3-none-any.whl.metadata (3.6 kB)\n",
            "  Downloading langchain_google_genai-2.0.11-py3-none-any.whl.metadata (3.6 kB)\n",
            "  Downloading langchain_google_genai-2.0.10-py3-none-any.whl.metadata (3.6 kB)\n",
            "Requirement already satisfied: google-ai-generativelanguage==0.6.15 in /usr/local/lib/python3.11/dist-packages (from google-generativeai) (0.6.15)\n",
            "Requirement already satisfied: google-api-core in /usr/local/lib/python3.11/dist-packages (from google-generativeai) (2.25.1)\n",
            "Requirement already satisfied: google-api-python-client in /usr/local/lib/python3.11/dist-packages (from google-generativeai) (2.176.0)\n",
            "Requirement already satisfied: google-auth>=2.15.0 in /usr/local/lib/python3.11/dist-packages (from google-generativeai) (2.38.0)\n",
            "Requirement already satisfied: protobuf in /usr/local/lib/python3.11/dist-packages (from google-generativeai) (5.29.5)\n",
            "Requirement already satisfied: tqdm in /usr/local/lib/python3.11/dist-packages (from google-generativeai) (4.67.1)\n",
            "Requirement already satisfied: typing-extensions in /usr/local/lib/python3.11/dist-packages (from google-generativeai) (4.14.1)\n",
            "Requirement already satisfied: proto-plus<2.0.0dev,>=1.22.3 in /usr/local/lib/python3.11/dist-packages (from google-ai-generativelanguage==0.6.15->google-generativeai) (1.26.1)\n",
            "Requirement already satisfied: googleapis-common-protos<2.0.0,>=1.56.2 in /usr/local/lib/python3.11/dist-packages (from google-api-core->google-generativeai) (1.70.0)\n",
            "Requirement already satisfied: cachetools<6.0,>=2.0.0 in /usr/local/lib/python3.11/dist-packages (from google-auth>=2.15.0->google-generativeai) (5.5.2)\n",
            "Requirement already satisfied: pyasn1-modules>=0.2.1 in /usr/local/lib/python3.11/dist-packages (from google-auth>=2.15.0->google-generativeai) (0.4.2)\n",
            "Requirement already satisfied: rsa<5,>=3.1.4 in /usr/local/lib/python3.11/dist-packages (from google-auth>=2.15.0->google-generativeai) (4.9.1)\n",
            "Requirement already satisfied: tenacity!=8.4.0,<10.0.0,>=8.1.0 in /usr/local/lib/python3.11/dist-packages (from langchain-core<1.0.0,>=0.3.66->langchain) (8.5.0)\n",
            "Requirement already satisfied: jsonpatch<2.0,>=1.33 in /usr/local/lib/python3.11/dist-packages (from langchain-core<1.0.0,>=0.3.66->langchain) (1.33)\n",
            "Requirement already satisfied: packaging>=23.2 in /usr/local/lib/python3.11/dist-packages (from langchain-core<1.0.0,>=0.3.66->langchain) (25.0)\n",
            "Collecting ormsgpack>=1.10.0 (from langgraph-checkpoint<3.0.0,>=2.1.0->langgraph)\n",
            "  Downloading ormsgpack-1.10.0-cp311-cp311-manylinux_2_17_x86_64.manylinux2014_x86_64.whl.metadata (43 kB)\n",
            "\u001b[2K     \u001b[90m━━━━━━━━━━━━━━━━━━━━━━━━━━━━━━━━━━━━━━━\u001b[0m \u001b[32m43.7/43.7 kB\u001b[0m \u001b[31m966.6 kB/s\u001b[0m eta \u001b[36m0:00:00\u001b[0m\n",
            "\u001b[?25hRequirement already satisfied: httpx>=0.25.2 in /usr/local/lib/python3.11/dist-packages (from langgraph-sdk<0.2.0,>=0.1.42->langgraph) (0.28.1)\n",
            "Requirement already satisfied: orjson>=3.10.1 in /usr/local/lib/python3.11/dist-packages (from langgraph-sdk<0.2.0,>=0.1.42->langgraph) (3.11.0)\n",
            "Requirement already satisfied: requests-toolbelt<2.0.0,>=1.0.0 in /usr/local/lib/python3.11/dist-packages (from langsmith>=0.1.17->langchain) (1.0.0)\n",
            "Requirement already satisfied: zstandard<0.24.0,>=0.23.0 in /usr/local/lib/python3.11/dist-packages (from langsmith>=0.1.17->langchain) (0.23.0)\n",
            "Requirement already satisfied: annotated-types>=0.6.0 in /usr/local/lib/python3.11/dist-packages (from pydantic<3.0.0,>=2.7.4->langchain) (0.7.0)\n",
            "Requirement already satisfied: pydantic-core==2.33.2 in /usr/local/lib/python3.11/dist-packages (from pydantic<3.0.0,>=2.7.4->langchain) (2.33.2)\n",
            "Requirement already satisfied: typing-inspection>=0.4.0 in /usr/local/lib/python3.11/dist-packages (from pydantic<3.0.0,>=2.7.4->langchain) (0.4.1)\n",
            "Requirement already satisfied: charset-normalizer<4,>=2 in /usr/local/lib/python3.11/dist-packages (from requests<3,>=2->langchain) (3.4.2)\n",
            "Requirement already satisfied: idna<4,>=2.5 in /usr/local/lib/python3.11/dist-packages (from requests<3,>=2->langchain) (3.10)\n",
            "Requirement already satisfied: urllib3<3,>=1.21.1 in /usr/local/lib/python3.11/dist-packages (from requests<3,>=2->langchain) (2.4.0)\n",
            "Requirement already satisfied: certifi>=2017.4.17 in /usr/local/lib/python3.11/dist-packages (from requests<3,>=2->langchain) (2025.7.14)\n",
            "Requirement already satisfied: greenlet>=1 in /usr/local/lib/python3.11/dist-packages (from SQLAlchemy<3,>=1.4->langchain) (3.2.3)\n",
            "Requirement already satisfied: httplib2<1.0.0,>=0.19.0 in /usr/local/lib/python3.11/dist-packages (from google-api-python-client->google-generativeai) (0.22.0)\n",
            "Requirement already satisfied: google-auth-httplib2<1.0.0,>=0.2.0 in /usr/local/lib/python3.11/dist-packages (from google-api-python-client->google-generativeai) (0.2.0)\n",
            "Requirement already satisfied: uritemplate<5,>=3.0.1 in /usr/local/lib/python3.11/dist-packages (from google-api-python-client->google-generativeai) (4.2.0)\n",
            "Requirement already satisfied: grpcio<2.0.0,>=1.33.2 in /usr/local/lib/python3.11/dist-packages (from google-api-core[grpc]!=2.0.*,!=2.1.*,!=2.10.*,!=2.2.*,!=2.3.*,!=2.4.*,!=2.5.*,!=2.6.*,!=2.7.*,!=2.8.*,!=2.9.*,<3.0.0dev,>=1.34.1->google-ai-generativelanguage==0.6.15->google-generativeai) (1.73.1)\n",
            "Requirement already satisfied: grpcio-status<2.0.0,>=1.33.2 in /usr/local/lib/python3.11/dist-packages (from google-api-core[grpc]!=2.0.*,!=2.1.*,!=2.10.*,!=2.2.*,!=2.3.*,!=2.4.*,!=2.5.*,!=2.6.*,!=2.7.*,!=2.8.*,!=2.9.*,<3.0.0dev,>=1.34.1->google-ai-generativelanguage==0.6.15->google-generativeai) (1.71.2)\n",
            "Requirement already satisfied: pyparsing!=3.0.0,!=3.0.1,!=3.0.2,!=3.0.3,<4,>=2.4.2 in /usr/local/lib/python3.11/dist-packages (from httplib2<1.0.0,>=0.19.0->google-api-python-client->google-generativeai) (3.2.3)\n",
            "Requirement already satisfied: anyio in /usr/local/lib/python3.11/dist-packages (from httpx>=0.25.2->langgraph-sdk<0.2.0,>=0.1.42->langgraph) (4.9.0)\n",
            "Requirement already satisfied: httpcore==1.* in /usr/local/lib/python3.11/dist-packages (from httpx>=0.25.2->langgraph-sdk<0.2.0,>=0.1.42->langgraph) (1.0.9)\n",
            "Requirement already satisfied: h11>=0.16 in /usr/local/lib/python3.11/dist-packages (from httpcore==1.*->httpx>=0.25.2->langgraph-sdk<0.2.0,>=0.1.42->langgraph) (0.16.0)\n",
            "Requirement already satisfied: jsonpointer>=1.9 in /usr/local/lib/python3.11/dist-packages (from jsonpatch<2.0,>=1.33->langchain-core<1.0.0,>=0.3.66->langchain) (3.0.0)\n",
            "Requirement already satisfied: pyasn1<0.7.0,>=0.6.1 in /usr/local/lib/python3.11/dist-packages (from pyasn1-modules>=0.2.1->google-auth>=2.15.0->google-generativeai) (0.6.1)\n",
            "Requirement already satisfied: sniffio>=1.1 in /usr/local/lib/python3.11/dist-packages (from anyio->httpx>=0.25.2->langgraph-sdk<0.2.0,>=0.1.42->langgraph) (1.3.1)\n",
            "Downloading langgraph-0.5.3-py3-none-any.whl (143 kB)\n",
            "\u001b[2K   \u001b[90m━━━━━━━━━━━━━━━━━━━━━━━━━━━━━━━━━━━━━━━━\u001b[0m \u001b[32m143.8/143.8 kB\u001b[0m \u001b[31m3.1 MB/s\u001b[0m eta \u001b[36m0:00:00\u001b[0m\n",
            "\u001b[?25hDownloading langchain_google_genai-2.0.10-py3-none-any.whl (41 kB)\n",
            "\u001b[2K   \u001b[90m━━━━━━━━━━━━━━━━━━━━━━━━━━━━━━━━━━━━━━━━\u001b[0m \u001b[32m42.0/42.0 kB\u001b[0m \u001b[31m2.6 MB/s\u001b[0m eta \u001b[36m0:00:00\u001b[0m\n",
            "\u001b[?25hDownloading filetype-1.2.0-py2.py3-none-any.whl (19 kB)\n",
            "Downloading langgraph_checkpoint-2.1.1-py3-none-any.whl (43 kB)\n",
            "\u001b[2K   \u001b[90m━━━━━━━━━━━━━━━━━━━━━━━━━━━━━━━━━━━━━━━━\u001b[0m \u001b[32m43.9/43.9 kB\u001b[0m \u001b[31m4.0 MB/s\u001b[0m eta \u001b[36m0:00:00\u001b[0m\n",
            "\u001b[?25hDownloading langgraph_prebuilt-0.5.2-py3-none-any.whl (23 kB)\n",
            "Downloading langgraph_sdk-0.1.73-py3-none-any.whl (50 kB)\n",
            "\u001b[2K   \u001b[90m━━━━━━━━━━━━━━━━━━━━━━━━━━━━━━━━━━━━━━━━\u001b[0m \u001b[32m50.2/50.2 kB\u001b[0m \u001b[31m5.0 MB/s\u001b[0m eta \u001b[36m0:00:00\u001b[0m\n",
            "\u001b[?25hDownloading ormsgpack-1.10.0-cp311-cp311-manylinux_2_17_x86_64.manylinux2014_x86_64.whl (216 kB)\n",
            "\u001b[2K   \u001b[90m━━━━━━━━━━━━━━━━━━━━━━━━━━━━━━━━━━━━━━━━\u001b[0m \u001b[32m216.5/216.5 kB\u001b[0m \u001b[31m9.2 MB/s\u001b[0m eta \u001b[36m0:00:00\u001b[0m\n",
            "\u001b[?25hInstalling collected packages: filetype, ormsgpack, langgraph-sdk, langgraph-checkpoint, langgraph-prebuilt, langgraph, langchain-google-genai\n",
            "Successfully installed filetype-1.2.0 langchain-google-genai-2.0.10 langgraph-0.5.3 langgraph-checkpoint-2.1.1 langgraph-prebuilt-0.5.2 langgraph-sdk-0.1.73 ormsgpack-1.10.0\n"
          ]
        }
      ],
      "source": [
        "!pip install langchain langgraph langchain-google-genai google-generativeai"
      ]
    },
    {
      "cell_type": "code",
      "source": [
        "from google.colab import userdata\n",
        "\n",
        "from langgraph.graph import StateGraph, START, END\n",
        "from langchain_google_genai import ChatGoogleGenerativeAI\n",
        "\n",
        "import operator\n",
        "\n",
        "from typing import TypedDict, Annotated\n",
        "from pydantic import BaseModel, Field"
      ],
      "metadata": {
        "id": "Wy-oNEYA0Unh"
      },
      "execution_count": 9,
      "outputs": []
    },
    {
      "cell_type": "code",
      "source": [
        "api_key = userdata.get(\"GOOGLE_API_KEY\")"
      ],
      "metadata": {
        "id": "sFb5PfJE0WJB"
      },
      "execution_count": 3,
      "outputs": []
    },
    {
      "cell_type": "code",
      "source": [
        "llm = ChatGoogleGenerativeAI(\n",
        "    model=\"gemini-2.5-flash\",\n",
        "    google_api_key=api_key\n",
        ")"
      ],
      "metadata": {
        "id": "OyX3Eq4I0ZG_"
      },
      "execution_count": 4,
      "outputs": []
    },
    {
      "cell_type": "code",
      "source": [
        "class EvauationSchema(BaseModel):\n",
        "  feedback: str = Field(description='Detailed feedback for the essay')\n",
        "  score: int = Field(description='Score out of 10 for the essay', ge=0, le=10)"
      ],
      "metadata": {
        "id": "Km2nmZ_Y0gFu"
      },
      "execution_count": 6,
      "outputs": []
    },
    {
      "cell_type": "code",
      "source": [
        "structured_model = llm.with_structured_output(EvauationSchema)"
      ],
      "metadata": {
        "id": "d6c4NI8s3Z1Q"
      },
      "execution_count": 7,
      "outputs": []
    },
    {
      "cell_type": "code",
      "source": [
        "class EssayState(TypedDict):\n",
        "  essay: str\n",
        "  language_feedback: str\n",
        "  depth_of_analysis_feedback: str\n",
        "  clarity_of_thought_feedback: str\n",
        "  overall_feedback: str\n",
        "  individual_score: Annotated[list[int], operator.add]\n",
        "  average_score: float"
      ],
      "metadata": {
        "id": "yxv3C5WG3fdM"
      },
      "execution_count": 11,
      "outputs": []
    },
    {
      "cell_type": "code",
      "source": [
        "def evaluate_language(state: EssayState) -> EssayState:\n",
        "  prompt = f\"Evaluate the language quality of the following essay and provide a feedback and assign a score: \\n {state['essay']}\"\n",
        "  output = structured_model.invoke(prompt)\n",
        "\n",
        "  return {'language_feedback': output.feedback, 'individual_score': [output.score]}"
      ],
      "metadata": {
        "id": "7lgwG6Kt5x9M"
      },
      "execution_count": 17,
      "outputs": []
    },
    {
      "cell_type": "code",
      "source": [
        "def evaluate_depth_of_analysis(state: EssayState) -> EssayState:\n",
        "  prompt = f\"Evaluate the depth of analysis of the following essay and provide a feedback and assign a score: \\n {state['essay']}\"\n",
        "  output = structured_model.invoke(prompt)\n",
        "\n",
        "  return {'depth_of_analysis_feedback': output.feedback, 'individual_score': [output.score]}"
      ],
      "metadata": {
        "id": "Deo3Wwoa6ck3"
      },
      "execution_count": 18,
      "outputs": []
    },
    {
      "cell_type": "code",
      "source": [
        "def evaluate_clarity_of_thought(state: EssayState) -> EssayState:\n",
        "  prompt = f\"Evaluate the clarity of thought of the following essay and provide a feedback and assign a score: \\n {state['essay']}\"\n",
        "  output = structured_model.invoke(prompt)\n",
        "\n",
        "  return {'clarity_of_thought_feedback': output.feedback, 'individual_score': [output.score]}"
      ],
      "metadata": {
        "id": "wgx8vKKC6q-A"
      },
      "execution_count": 19,
      "outputs": []
    },
    {
      "cell_type": "code",
      "source": [
        "def evaluate_essay(state: EssayState) -> EssayState:\n",
        "  prompt = f'Based on the following feedbacks, create a summarized feedback: \\n Language Feedback - {state[\"language_feedback\"]} \\n Depth of Analysis Feedback - {state[\"depth_of_analysis_feedback\"]} \\n Clarity of Thought Feedback - {state[\"clarity_of_thought_feedback\"]}'\n",
        "  overall_feedback = llm.invoke(prompt).content\n",
        "\n",
        "  average_score = sum(state['individual_score']) / len(state['individual_score'])\n",
        "\n",
        "  return {'overall_feedback': overall_feedback, 'average_score': average_score}"
      ],
      "metadata": {
        "id": "C5voUi1D68w8"
      },
      "execution_count": 20,
      "outputs": []
    },
    {
      "cell_type": "code",
      "source": [
        "graph = StateGraph(EssayState)"
      ],
      "metadata": {
        "id": "NdJEwKYH4vmN"
      },
      "execution_count": 21,
      "outputs": []
    },
    {
      "cell_type": "code",
      "source": [
        "graph.add_node('evaluate_language', evaluate_language)\n",
        "graph.add_node('evaluate_depth_of_analysis', evaluate_depth_of_analysis)\n",
        "graph.add_node('evaluate_clarity_of_thought', evaluate_clarity_of_thought)\n",
        "graph.add_node('evaluate_essay', evaluate_essay)"
      ],
      "metadata": {
        "colab": {
          "base_uri": "https://localhost:8080/"
        },
        "id": "-hBjrQ7T5mN7",
        "outputId": "acb1e346-60f6-499d-8e39-ef9ac7da7d01"
      },
      "execution_count": 22,
      "outputs": [
        {
          "output_type": "execute_result",
          "data": {
            "text/plain": [
              "<langgraph.graph.state.StateGraph at 0x7e63327ad150>"
            ]
          },
          "metadata": {},
          "execution_count": 22
        }
      ]
    },
    {
      "cell_type": "code",
      "source": [
        "graph.add_edge(START, 'evaluate_language')\n",
        "graph.add_edge(START, 'evaluate_depth_of_analysis')\n",
        "graph.add_edge(START, 'evaluate_clarity_of_thought')\n",
        "\n",
        "graph.add_edge('evaluate_language', 'evaluate_essay')\n",
        "graph.add_edge('evaluate_depth_of_analysis', 'evaluate_essay')\n",
        "graph.add_edge('evaluate_clarity_of_thought', 'evaluate_essay')\n",
        "\n",
        "graph.add_edge('evaluate_essay', END)"
      ],
      "metadata": {
        "colab": {
          "base_uri": "https://localhost:8080/"
        },
        "id": "sK-Mjlvn8B8P",
        "outputId": "d50ff757-f3ca-46b9-c52c-b327424b5189"
      },
      "execution_count": 23,
      "outputs": [
        {
          "output_type": "execute_result",
          "data": {
            "text/plain": [
              "<langgraph.graph.state.StateGraph at 0x7e63327ad150>"
            ]
          },
          "metadata": {},
          "execution_count": 23
        }
      ]
    },
    {
      "cell_type": "code",
      "source": [
        "workflow = graph.compile()\n",
        "workflow"
      ],
      "metadata": {
        "colab": {
          "base_uri": "https://localhost:8080/",
          "height": 302
        },
        "id": "EWlXMSGS8dpE",
        "outputId": "b3e8e939-4802-4b2d-dc4c-d63d9575dc62"
      },
      "execution_count": 24,
      "outputs": [
        {
          "output_type": "execute_result",
          "data": {
            "text/plain": [
              "<langgraph.graph.state.CompiledStateGraph object at 0x7e633255f050>"
            ],
            "image/png": "[encoded data removed]"
          },
          "metadata": {},
          "execution_count": 24
        }
      ]
    },
    {
      "cell_type": "code",
      "source": [
        "essay = \"\"\"\n",
        "Artificial Intelligence (AI) is revolutionizing oncology by enhancing diagnosis, treatment planning, and patient outcomes. In cancer diagnostics, AI algorithms can analyze medical images, such as CT scans and mammograms, with remarkable accuracy, often identifying tumors earlier than traditional methods. Machine learning models trained on vast datasets can detect subtle patterns in imaging, histopathology slides, and genomic data, enabling personalized treatment strategies.\n",
        "In precision oncology, AI facilitates the integration of genomic, proteomic, and clinical data to identify specific cancer subtypes and potential therapeutic targets. AI-driven platforms support oncologists in predicting patient responses to therapies, minimizing trial-and-error approaches, and reducing adverse effects. For instance, deep learning models can forecast tumor progression and recommend optimal chemotherapy regimens based on individual profiles.\n",
        "Additionally, AI contributes to drug discovery by accelerating the identification of novel compounds and predicting their efficacy. Natural language processing tools extract valuable insights from biomedical literature and clinical records, assisting in real-time decision-making.\n",
        "Despite its potential, AI in oncology faces challenges, including data privacy concerns, model interpretability, and the need for regulatory approval. Nevertheless, as technology advances and interdisciplinary collaboration grows, AI is poised to become a cornerstone of modern oncology, fostering earlier detection, tailored treatments, and improved survival rates for cancer patients.\n",
        "\"\"\""
      ],
      "metadata": {
        "id": "24hQ04oY858U"
      },
      "execution_count": 25,
      "outputs": []
    },
    {
      "cell_type": "code",
      "source": [
        "initial_state = {\n",
        "    'essay': essay\n",
        "}\n",
        "\n",
        "final_state = workflow.invoke(initial_state)"
      ],
      "metadata": {
        "id": "C6Ph354S8u71"
      },
      "execution_count": 26,
      "outputs": []
    },
    {
      "cell_type": "code",
      "source": [
        "print(final_state)"
      ],
      "metadata": {
        "colab": {
          "base_uri": "https://localhost:8080/"
        },
        "id": "I5X4tZHo9FMT",
        "outputId": "f3ea93ec-8ea5-4e07-e83b-768dc19046d2"
      },
      "execution_count": 27,
      "outputs": [
        {
          "output_type": "stream",
          "name": "stdout",
          "text": [
            "{'essay': '\\nArtificial Intelligence (AI) is revolutionizing oncology by enhancing diagnosis, treatment planning, and patient outcomes. In cancer diagnostics, AI algorithms can analyze medical images, such as CT scans and mammograms, with remarkable accuracy, often identifying tumors earlier than traditional methods. Machine learning models trained on vast datasets can detect subtle patterns in imaging, histopathology slides, and genomic data, enabling personalized treatment strategies.\\nIn precision oncology, AI facilitates the integration of genomic, proteomic, and clinical data to identify specific cancer subtypes and potential therapeutic targets. AI-driven platforms support oncologists in predicting patient responses to therapies, minimizing trial-and-error approaches, and reducing adverse effects. For instance, deep learning models can forecast tumor progression and recommend optimal chemotherapy regimens based on individual profiles.\\nAdditionally, AI contributes to drug discovery by accelerating the identification of novel compounds and predicting their efficacy. Natural language processing tools extract valuable insights from biomedical literature and clinical records, assisting in real-time decision-making.\\nDespite its potential, AI in oncology faces challenges, including data privacy concerns, model interpretability, and the need for regulatory approval. Nevertheless, as technology advances and interdisciplinary collaboration grows, AI is poised to become a cornerstone of modern oncology, fostering earlier detection, tailored treatments, and improved survival rates for cancer patients.\\n', 'language_feedback': 'The essay demonstrates excellent language quality, characterized by clarity, precision, and a sophisticated vocabulary. The structure is logical, allowing for a smooth flow of ideas from the applications of AI in oncology to the challenges it faces. Sentence structures are varied and contribute to the professional tone. There are no noticeable grammatical errors or spelling mistakes. The content is comprehensive and well-articulated, showcasing a strong understanding of the subject matter.', 'depth_of_analysis_feedback': \"The essay provides a comprehensive and well-structured overview of Artificial Intelligence's transformative role in oncology, covering its applications in diagnosis, precision oncology, and drug discovery. It effectively highlights how AI algorithms analyze diverse data types to enable earlier detection and personalized treatment strategies. The inclusion of challenges such as data privacy and model interpretability demonstrates a balanced perspective. To further enhance the depth of analysis, the essay could benefit from more specific examples of AI implementations, a deeper dive into the methodologies employed, or quantitative data on AI's impact in clinical settings. Expanding on the nuances of the challenges would also strengthen the discussion.\", 'clarity_of_thought_feedback': 'The essay demonstrates excellent clarity of thought and a highly logical progression of ideas. It effectively outlines the multifaceted applications of AI in oncology, moving seamlessly from diagnosis and precision oncology to drug discovery. The structure is well-defined, with each paragraph building cohesively on the previous one, and the language used is precise and easy to understand, making the complex subject accessible. The conclusion thoughtfully addresses both the potential and challenges, providing a balanced perspective. Overall, the essay is very well-articulated and coherent.', 'overall_feedback': \"This essay demonstrates exceptional quality across multiple dimensions. The **language is outstanding**, characterized by clarity, precision, and a sophisticated vocabulary, contributing to a highly professional tone. The writing is virtually error-free, with varied sentence structures and no noticeable grammatical or spelling mistakes.\\n\\n**Clarity of thought is excellent**, with a highly logical and seamless progression of ideas that makes complex subject matter accessible and easy to understand. The structure is well-defined, with each paragraph building cohesively, and the conclusion thoughtfully provides a balanced perspective on both potential and challenges.\\n\\n**Content-wise, the essay provides a comprehensive and well-structured overview** of AI's transformative role in oncology, effectively outlining its multifaceted applications from diagnosis to drug discovery, and thoughtfully incorporating a balanced perspective by addressing key challenges like data privacy and model interpretability.\\n\\nTo **further enhance the depth of analysis**, the essay could benefit from incorporating more specific examples of AI implementations, delving deeper into the methodologies employed, or providing quantitative data on AI's impact in clinical settings. Expanding on the nuances of the challenges discussed would also strengthen the overall discussion.\\n\\nOverall, this is a very well-articulated, coherent, and insightful essay that clearly demonstrates a strong understanding of the subject matter.\", 'individual_score': [9, 8, 9], 'average_score': 8.666666666666666}\n"
          ]
        }
      ]
    }
  ]
}