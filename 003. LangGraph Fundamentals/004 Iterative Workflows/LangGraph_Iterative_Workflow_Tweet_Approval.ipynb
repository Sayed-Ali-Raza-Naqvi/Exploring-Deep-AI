{
  "nbformat": 4,
  "nbformat_minor": 0,
  "metadata": {
    "colab": {
      "provenance": []
    },
    "kernelspec": {
      "name": "python3",
      "display_name": "Python 3"
    },
    "language_info": {
      "name": "python"
    }
  },
  "cells": [
    {
      "cell_type": "code",
      "execution_count": 2,
      "metadata": {
        "colab": {
          "base_uri": "https://localhost:8080/"
        },
        "collapsed": true,
        "id": "X2PQSFVLdXY3",
        "outputId": "98ada7c7-7322-403a-bc9b-603f25745465"
      },
      "outputs": [
        {
          "output_type": "stream",
          "name": "stdout",
          "text": [
            "Requirement already satisfied: langchain in /usr/local/lib/python3.11/dist-packages (0.3.26)\n",
            "Requirement already satisfied: langgraph in /usr/local/lib/python3.11/dist-packages (0.5.4)\n",
            "Collecting langchain-google-genai\n",
            "  Downloading langchain_google_genai-2.1.8-py3-none-any.whl.metadata (7.0 kB)\n",
            "Requirement already satisfied: google-generativeai in /usr/local/lib/python3.11/dist-packages (0.8.5)\n",
            "Requirement already satisfied: langchain-core<1.0.0,>=0.3.66 in /usr/local/lib/python3.11/dist-packages (from langchain) (0.3.71)\n",
            "Requirement already satisfied: langchain-text-splitters<1.0.0,>=0.3.8 in /usr/local/lib/python3.11/dist-packages (from langchain) (0.3.8)\n",
            "Requirement already satisfied: langsmith>=0.1.17 in /usr/local/lib/python3.11/dist-packages (from langchain) (0.4.8)\n",
            "Requirement already satisfied: pydantic<3.0.0,>=2.7.4 in /usr/local/lib/python3.11/dist-packages (from langchain) (2.11.7)\n",
            "Requirement already satisfied: SQLAlchemy<3,>=1.4 in /usr/local/lib/python3.11/dist-packages (from langchain) (2.0.41)\n",
            "Requirement already satisfied: requests<3,>=2 in /usr/local/lib/python3.11/dist-packages (from langchain) (2.32.3)\n",
            "Requirement already satisfied: PyYAML>=5.3 in /usr/local/lib/python3.11/dist-packages (from langchain) (6.0.2)\n",
            "Requirement already satisfied: langgraph-checkpoint<3.0.0,>=2.1.0 in /usr/local/lib/python3.11/dist-packages (from langgraph) (2.1.1)\n",
            "Requirement already satisfied: langgraph-prebuilt<0.6.0,>=0.5.0 in /usr/local/lib/python3.11/dist-packages (from langgraph) (0.5.2)\n",
            "Requirement already satisfied: langgraph-sdk<0.2.0,>=0.1.42 in /usr/local/lib/python3.11/dist-packages (from langgraph) (0.1.74)\n",
            "Requirement already satisfied: xxhash>=3.5.0 in /usr/local/lib/python3.11/dist-packages (from langgraph) (3.5.0)\n",
            "Collecting filetype<2.0.0,>=1.2.0 (from langchain-google-genai)\n",
            "  Downloading filetype-1.2.0-py2.py3-none-any.whl.metadata (6.5 kB)\n",
            "Collecting google-ai-generativelanguage<0.7.0,>=0.6.18 (from langchain-google-genai)\n",
            "  Downloading google_ai_generativelanguage-0.6.18-py3-none-any.whl.metadata (9.8 kB)\n",
            "INFO: pip is looking at multiple versions of google-generativeai to determine which version is compatible with other requirements. This could take a while.\n",
            "Collecting google-generativeai\n",
            "  Downloading google_generativeai-0.8.4-py3-none-any.whl.metadata (4.2 kB)\n",
            "  Downloading google_generativeai-0.8.3-py3-none-any.whl.metadata (3.9 kB)\n",
            "  Downloading google_generativeai-0.8.2-py3-none-any.whl.metadata (3.9 kB)\n",
            "  Downloading google_generativeai-0.8.1-py3-none-any.whl.metadata (3.9 kB)\n",
            "  Downloading google_generativeai-0.8.0-py3-none-any.whl.metadata (3.9 kB)\n",
            "  Downloading google_generativeai-0.7.2-py3-none-any.whl.metadata (4.0 kB)\n",
            "  Downloading google_generativeai-0.7.1-py3-none-any.whl.metadata (3.9 kB)\n",
            "INFO: pip is still looking at multiple versions of google-generativeai to determine which version is compatible with other requirements. This could take a while.\n",
            "  Downloading google_generativeai-0.7.0-py3-none-any.whl.metadata (3.9 kB)\n",
            "  Downloading google_generativeai-0.6.0-py3-none-any.whl.metadata (3.9 kB)\n",
            "  Downloading google_generativeai-0.5.4-py3-none-any.whl.metadata (3.9 kB)\n",
            "  Downloading google_generativeai-0.5.3-py3-none-any.whl.metadata (3.9 kB)\n",
            "  Downloading google_generativeai-0.5.2-py3-none-any.whl.metadata (3.9 kB)\n",
            "INFO: This is taking longer than usual. You might need to provide the dependency resolver with stricter constraints to reduce runtime. See https://pip.pypa.io/warnings/backtracking for guidance. If you want to abort this run, press Ctrl + C.\n",
            "  Downloading google_generativeai-0.5.1-py3-none-any.whl.metadata (3.9 kB)\n",
            "  Downloading google_generativeai-0.5.0-py3-none-any.whl.metadata (3.9 kB)\n",
            "  Downloading google_generativeai-0.4.1-py3-none-any.whl.metadata (6.2 kB)\n",
            "  Downloading google_generativeai-0.4.0-py3-none-any.whl.metadata (6.2 kB)\n",
            "  Downloading google_generativeai-0.3.2-py3-none-any.whl.metadata (5.9 kB)\n",
            "  Downloading google_generativeai-0.3.1-py3-none-any.whl.metadata (5.9 kB)\n",
            "  Downloading google_generativeai-0.3.0-py3-none-any.whl.metadata (5.8 kB)\n",
            "  Downloading google_generativeai-0.2.2-py3-none-any.whl.metadata (3.1 kB)\n",
            "  Downloading google_generativeai-0.2.1-py3-none-any.whl.metadata (3.1 kB)\n",
            "  Downloading google_generativeai-0.2.0-py3-none-any.whl.metadata (3.1 kB)\n",
            "  Downloading google_generativeai-0.1.0-py3-none-any.whl.metadata (3.0 kB)\n",
            "Collecting langchain-google-genai\n",
            "  Downloading langchain_google_genai-2.1.7-py3-none-any.whl.metadata (7.0 kB)\n",
            "  Downloading langchain_google_genai-2.1.6-py3-none-any.whl.metadata (7.0 kB)\n",
            "  Downloading langchain_google_genai-2.1.5-py3-none-any.whl.metadata (5.2 kB)\n",
            "  Downloading langchain_google_genai-2.1.4-py3-none-any.whl.metadata (5.2 kB)\n",
            "  Downloading langchain_google_genai-2.1.3-py3-none-any.whl.metadata (4.7 kB)\n",
            "  Downloading langchain_google_genai-2.1.2-py3-none-any.whl.metadata (4.7 kB)\n",
            "  Downloading langchain_google_genai-2.1.1-py3-none-any.whl.metadata (4.7 kB)\n",
            "  Downloading langchain_google_genai-2.1.0-py3-none-any.whl.metadata (3.6 kB)\n",
            "  Downloading langchain_google_genai-2.0.11-py3-none-any.whl.metadata (3.6 kB)\n",
            "  Downloading langchain_google_genai-2.0.10-py3-none-any.whl.metadata (3.6 kB)\n",
            "Requirement already satisfied: google-ai-generativelanguage==0.6.15 in /usr/local/lib/python3.11/dist-packages (from google-generativeai) (0.6.15)\n",
            "Requirement already satisfied: google-api-core in /usr/local/lib/python3.11/dist-packages (from google-generativeai) (2.25.1)\n",
            "Requirement already satisfied: google-api-python-client in /usr/local/lib/python3.11/dist-packages (from google-generativeai) (2.177.0)\n",
            "Requirement already satisfied: google-auth>=2.15.0 in /usr/local/lib/python3.11/dist-packages (from google-generativeai) (2.38.0)\n",
            "Requirement already satisfied: protobuf in /usr/local/lib/python3.11/dist-packages (from google-generativeai) (5.29.5)\n",
            "Requirement already satisfied: tqdm in /usr/local/lib/python3.11/dist-packages (from google-generativeai) (4.67.1)\n",
            "Requirement already satisfied: typing-extensions in /usr/local/lib/python3.11/dist-packages (from google-generativeai) (4.14.1)\n",
            "Requirement already satisfied: proto-plus<2.0.0dev,>=1.22.3 in /usr/local/lib/python3.11/dist-packages (from google-ai-generativelanguage==0.6.15->google-generativeai) (1.26.1)\n",
            "Requirement already satisfied: googleapis-common-protos<2.0.0,>=1.56.2 in /usr/local/lib/python3.11/dist-packages (from google-api-core->google-generativeai) (1.70.0)\n",
            "Requirement already satisfied: cachetools<6.0,>=2.0.0 in /usr/local/lib/python3.11/dist-packages (from google-auth>=2.15.0->google-generativeai) (5.5.2)\n",
            "Requirement already satisfied: pyasn1-modules>=0.2.1 in /usr/local/lib/python3.11/dist-packages (from google-auth>=2.15.0->google-generativeai) (0.4.2)\n",
            "Requirement already satisfied: rsa<5,>=3.1.4 in /usr/local/lib/python3.11/dist-packages (from google-auth>=2.15.0->google-generativeai) (4.9.1)\n",
            "Requirement already satisfied: tenacity!=8.4.0,<10.0.0,>=8.1.0 in /usr/local/lib/python3.11/dist-packages (from langchain-core<1.0.0,>=0.3.66->langchain) (8.5.0)\n",
            "Requirement already satisfied: jsonpatch<2.0,>=1.33 in /usr/local/lib/python3.11/dist-packages (from langchain-core<1.0.0,>=0.3.66->langchain) (1.33)\n",
            "Requirement already satisfied: packaging>=23.2 in /usr/local/lib/python3.11/dist-packages (from langchain-core<1.0.0,>=0.3.66->langchain) (25.0)\n",
            "Requirement already satisfied: ormsgpack>=1.10.0 in /usr/local/lib/python3.11/dist-packages (from langgraph-checkpoint<3.0.0,>=2.1.0->langgraph) (1.10.0)\n",
            "Requirement already satisfied: httpx>=0.25.2 in /usr/local/lib/python3.11/dist-packages (from langgraph-sdk<0.2.0,>=0.1.42->langgraph) (0.28.1)\n",
            "Requirement already satisfied: orjson>=3.10.1 in /usr/local/lib/python3.11/dist-packages (from langgraph-sdk<0.2.0,>=0.1.42->langgraph) (3.11.0)\n",
            "Requirement already satisfied: requests-toolbelt<2.0.0,>=1.0.0 in /usr/local/lib/python3.11/dist-packages (from langsmith>=0.1.17->langchain) (1.0.0)\n",
            "Requirement already satisfied: zstandard<0.24.0,>=0.23.0 in /usr/local/lib/python3.11/dist-packages (from langsmith>=0.1.17->langchain) (0.23.0)\n",
            "Requirement already satisfied: annotated-types>=0.6.0 in /usr/local/lib/python3.11/dist-packages (from pydantic<3.0.0,>=2.7.4->langchain) (0.7.0)\n",
            "Requirement already satisfied: pydantic-core==2.33.2 in /usr/local/lib/python3.11/dist-packages (from pydantic<3.0.0,>=2.7.4->langchain) (2.33.2)\n",
            "Requirement already satisfied: typing-inspection>=0.4.0 in /usr/local/lib/python3.11/dist-packages (from pydantic<3.0.0,>=2.7.4->langchain) (0.4.1)\n",
            "Requirement already satisfied: charset-normalizer<4,>=2 in /usr/local/lib/python3.11/dist-packages (from requests<3,>=2->langchain) (3.4.2)\n",
            "Requirement already satisfied: idna<4,>=2.5 in /usr/local/lib/python3.11/dist-packages (from requests<3,>=2->langchain) (3.10)\n",
            "Requirement already satisfied: urllib3<3,>=1.21.1 in /usr/local/lib/python3.11/dist-packages (from requests<3,>=2->langchain) (2.5.0)\n",
            "Requirement already satisfied: certifi>=2017.4.17 in /usr/local/lib/python3.11/dist-packages (from requests<3,>=2->langchain) (2025.7.14)\n",
            "Requirement already satisfied: greenlet>=1 in /usr/local/lib/python3.11/dist-packages (from SQLAlchemy<3,>=1.4->langchain) (3.2.3)\n",
            "Requirement already satisfied: httplib2<1.0.0,>=0.19.0 in /usr/local/lib/python3.11/dist-packages (from google-api-python-client->google-generativeai) (0.22.0)\n",
            "Requirement already satisfied: google-auth-httplib2<1.0.0,>=0.2.0 in /usr/local/lib/python3.11/dist-packages (from google-api-python-client->google-generativeai) (0.2.0)\n",
            "Requirement already satisfied: uritemplate<5,>=3.0.1 in /usr/local/lib/python3.11/dist-packages (from google-api-python-client->google-generativeai) (4.2.0)\n",
            "Requirement already satisfied: grpcio<2.0.0,>=1.33.2 in /usr/local/lib/python3.11/dist-packages (from google-api-core[grpc]!=2.0.*,!=2.1.*,!=2.10.*,!=2.2.*,!=2.3.*,!=2.4.*,!=2.5.*,!=2.6.*,!=2.7.*,!=2.8.*,!=2.9.*,<3.0.0dev,>=1.34.1->google-ai-generativelanguage==0.6.15->google-generativeai) (1.73.1)\n",
            "Requirement already satisfied: grpcio-status<2.0.0,>=1.33.2 in /usr/local/lib/python3.11/dist-packages (from google-api-core[grpc]!=2.0.*,!=2.1.*,!=2.10.*,!=2.2.*,!=2.3.*,!=2.4.*,!=2.5.*,!=2.6.*,!=2.7.*,!=2.8.*,!=2.9.*,<3.0.0dev,>=1.34.1->google-ai-generativelanguage==0.6.15->google-generativeai) (1.71.2)\n",
            "Requirement already satisfied: pyparsing!=3.0.0,!=3.0.1,!=3.0.2,!=3.0.3,<4,>=2.4.2 in /usr/local/lib/python3.11/dist-packages (from httplib2<1.0.0,>=0.19.0->google-api-python-client->google-generativeai) (3.2.3)\n",
            "Requirement already satisfied: anyio in /usr/local/lib/python3.11/dist-packages (from httpx>=0.25.2->langgraph-sdk<0.2.0,>=0.1.42->langgraph) (4.9.0)\n",
            "Requirement already satisfied: httpcore==1.* in /usr/local/lib/python3.11/dist-packages (from httpx>=0.25.2->langgraph-sdk<0.2.0,>=0.1.42->langgraph) (1.0.9)\n",
            "Requirement already satisfied: h11>=0.16 in /usr/local/lib/python3.11/dist-packages (from httpcore==1.*->httpx>=0.25.2->langgraph-sdk<0.2.0,>=0.1.42->langgraph) (0.16.0)\n",
            "Requirement already satisfied: jsonpointer>=1.9 in /usr/local/lib/python3.11/dist-packages (from jsonpatch<2.0,>=1.33->langchain-core<1.0.0,>=0.3.66->langchain) (3.0.0)\n",
            "Requirement already satisfied: pyasn1<0.7.0,>=0.6.1 in /usr/local/lib/python3.11/dist-packages (from pyasn1-modules>=0.2.1->google-auth>=2.15.0->google-generativeai) (0.6.1)\n",
            "Requirement already satisfied: sniffio>=1.1 in /usr/local/lib/python3.11/dist-packages (from anyio->httpx>=0.25.2->langgraph-sdk<0.2.0,>=0.1.42->langgraph) (1.3.1)\n",
            "Downloading langchain_google_genai-2.0.10-py3-none-any.whl (41 kB)\n",
            "\u001b[2K   \u001b[90m━━━━━━━━━━━━━━━━━━━━━━━━━━━━━━━━━━━━━━━━\u001b[0m \u001b[32m42.0/42.0 kB\u001b[0m \u001b[31m1.7 MB/s\u001b[0m eta \u001b[36m0:00:00\u001b[0m\n",
            "\u001b[?25hDownloading filetype-1.2.0-py2.py3-none-any.whl (19 kB)\n",
            "Installing collected packages: filetype, langchain-google-genai\n",
            "Successfully installed filetype-1.2.0 langchain-google-genai-2.0.10\n"
          ]
        }
      ],
      "source": [
        "!pip install langchain langgraph langchain-google-genai google-generativeai"
      ]
    },
    {
      "cell_type": "code",
      "source": [
        "from google.colab import userdata\n",
        "\n",
        "from langgraph.graph import StateGraph, START, END\n",
        "from langchain_google_genai import ChatGoogleGenerativeAI\n",
        "from langchain_core.messages import SystemMessage, HumanMessage\n",
        "\n",
        "from typing import TypedDict, Literal, Annotated\n",
        "from pydantic import BaseModel, Field\n",
        "\n",
        "import operator"
      ],
      "metadata": {
        "id": "L2fGYxSedbYE"
      },
      "execution_count": 49,
      "outputs": []
    },
    {
      "cell_type": "code",
      "source": [
        "api_key = userdata.get(\"GOOGLE_API_KEY\")"
      ],
      "metadata": {
        "id": "w3xpQe4pfYJu"
      },
      "execution_count": 50,
      "outputs": []
    },
    {
      "cell_type": "code",
      "source": [
        "generator_llm = ChatGoogleGenerativeAI(\n",
        "    model=\"gemini-1.5-flash\",\n",
        "    google_api_key=api_key\n",
        ")"
      ],
      "metadata": {
        "id": "ttRYGEKbfa_D"
      },
      "execution_count": 74,
      "outputs": []
    },
    {
      "cell_type": "code",
      "source": [
        "evaluator_llm = ChatGoogleGenerativeAI(\n",
        "    model=\"gemini-1.5-flash\",\n",
        "    google_api_key=api_key\n",
        ")"
      ],
      "metadata": {
        "id": "vnLVnIrofoGe"
      },
      "execution_count": 75,
      "outputs": []
    },
    {
      "cell_type": "code",
      "source": [
        "optimizer_llm = ChatGoogleGenerativeAI(\n",
        "    model=\"gemini-1.5-flash\",\n",
        "    google_api_key=api_key\n",
        ")"
      ],
      "metadata": {
        "id": "GgW0Sfxjf9LA"
      },
      "execution_count": 76,
      "outputs": []
    },
    {
      "cell_type": "code",
      "source": [
        "class TweetEvaluation(BaseModel):\n",
        "  evaluation: Literal['approved', 'needs improvement'] = Field(description=\"Whether the tweet is approved or needs improvement.\")\n",
        "  feedback: str = Field(description=\"One paragraph explaining the strengths and weaknesses.\")"
      ],
      "metadata": {
        "id": "hqtUWxJRiwXH"
      },
      "execution_count": 77,
      "outputs": []
    },
    {
      "cell_type": "code",
      "source": [
        "structured_evaluator_llm = evaluator_llm.with_structured_output(TweetEvaluation)"
      ],
      "metadata": {
        "id": "kg-Tesl0jR05"
      },
      "execution_count": 78,
      "outputs": []
    },
    {
      "cell_type": "code",
      "source": [
        "class TweetState(TypedDict):\n",
        "    topic: str\n",
        "    tweet: str\n",
        "    evaluation: Literal['approved', 'needs improvement']\n",
        "    feedback: str\n",
        "    iteration: int\n",
        "    max_iterations: int\n",
        "    tweet_history: Annotated[list[str], operator.add]\n",
        "    feedback_history: Annotated[list[str], operator.add]"
      ],
      "metadata": {
        "id": "ZPxC8TgBf__h"
      },
      "execution_count": 79,
      "outputs": []
    },
    {
      "cell_type": "code",
      "source": [
        "def generate_tweet(state: TweetState) -> TweetState:\n",
        "  messages = [\n",
        "        SystemMessage(content=\"You are a funny and clever Twitter/X influencer.\"),\n",
        "        HumanMessage(content=f\"\"\"\n",
        "                      Write a short, original, and hilarious tweet on the topic: \"{state['topic']}\".\n",
        "\n",
        "                      Rules:\n",
        "                      - Do NOT use question-answer format.\n",
        "                      - Max 280 characters.\n",
        "                      - Use observational humor, irony, sarcasm, or cultural references.\n",
        "                      - Think in meme logic, punchlines, or relatable takes.\n",
        "                      - Use simple, day to day English.\n",
        "                    \"\"\")\n",
        "    ]\n",
        "\n",
        "  response = generator_llm.invoke(messages).content\n",
        "\n",
        "  return {'tweet': response, 'tweet_history': [response]}"
      ],
      "metadata": {
        "id": "1D80sJDOg_dY"
      },
      "execution_count": 80,
      "outputs": []
    },
    {
      "cell_type": "code",
      "source": [
        "def evaluate_tweet(state: TweetState) -> TweetState:\n",
        "  messages = [\n",
        "    SystemMessage(content=\"You are a ruthless, no-laugh-given Twitter critic. You evaluate tweets based on humor, originality, virality, and tweet format.\"),\n",
        "    HumanMessage(content=f\"\"\"\n",
        "                  Evaluate the following tweet:\n",
        "\n",
        "                  Tweet: \"{state['tweet']}\"\n",
        "\n",
        "                  Use the criteria below to evaluate the tweet:\n",
        "\n",
        "                  1. Originality – Is this fresh, or have you seen it a hundred times before?\n",
        "                  2. Humor – Did it genuinely make you smile, laugh, or chuckle?\n",
        "                  3. Punchiness – Is it short, sharp, and scroll-stopping?\n",
        "                  4. Virality Potential – Would people retweet or share it?\n",
        "                  5. Format – Is it a well-formed tweet (not a setup-punchline joke, not a Q&A joke, and under 280 characters)?\n",
        "\n",
        "                  Auto-reject if:\n",
        "                  - It's written in question-answer format (e.g., \"Why did...\" or \"What happens when...\")\n",
        "                  - It exceeds 280 characters\n",
        "                  - It reads like a traditional setup-punchline joke\n",
        "                  - Dont end with generic, throwaway, or deflating lines that weaken the humor (e.g., “Masterpieces of the auntie-uncle universe” or vague summaries)\n",
        "\n",
        "                  ### Respond ONLY in structured format:\n",
        "                  - evaluation: \"approved\" or \"needs_improvement\"\n",
        "                  - feedback: One paragraph explaining the strengths and weaknesses\n",
        "                \"\"\")\n",
        "  ]\n",
        "\n",
        "  response = structured_evaluator_llm.invoke(messages)\n",
        "\n",
        "  return {'evaluation': response.evaluation, 'feedback': response.feedback, 'feedback_history': [response.feedback]}"
      ],
      "metadata": {
        "id": "bx60_s-jiD7D"
      },
      "execution_count": 81,
      "outputs": []
    },
    {
      "cell_type": "code",
      "source": [
        "def optimize_tweet(state: TweetState) -> TweetState:\n",
        "  messages = [\n",
        "        SystemMessage(content=\"You punch up tweets for virality and humor based on given feedback.\"),\n",
        "        HumanMessage(content=f\"\"\"\n",
        "                      Improve the tweet based on this feedback:\n",
        "                      \"{state['feedback']}\"\n",
        "\n",
        "                      Topic: \"{state['topic']}\"\n",
        "                      Original Tweet:\n",
        "                      {state['tweet']}\n",
        "\n",
        "                      Re-write it as a short, viral-worthy tweet. Avoid Q&A style and stay under 280 characters.\n",
        "                    \"\"\")\n",
        "    ]\n",
        "\n",
        "  response = optimizer_llm.invoke(messages).content\n",
        "\n",
        "  iteration = state['iteration'] + 1\n",
        "\n",
        "  return {'tweet': response, 'iteration': iteration, 'tweet_history': [response]}"
      ],
      "metadata": {
        "id": "edbBSRZoiW14"
      },
      "execution_count": 82,
      "outputs": []
    },
    {
      "cell_type": "code",
      "source": [
        "def route_evaluation(state: TweetState) -> str:\n",
        "  if state['evaluation'] == 'approved' or state['iteration'] >= state['max_iterations']:\n",
        "    return 'approved'\n",
        "  else:\n",
        "    return 'needs improvement'"
      ],
      "metadata": {
        "id": "pwAGMyPWkaBE"
      },
      "execution_count": 83,
      "outputs": []
    },
    {
      "cell_type": "code",
      "source": [
        "graph = StateGraph(TweetState)"
      ],
      "metadata": {
        "id": "d6hfGDSgggWj"
      },
      "execution_count": 84,
      "outputs": []
    },
    {
      "cell_type": "code",
      "source": [
        "graph.add_node('generate', generate_tweet)\n",
        "graph.add_node('evaluate', evaluate_tweet)\n",
        "graph.add_node('optimize', optimize_tweet)"
      ],
      "metadata": {
        "colab": {
          "base_uri": "https://localhost:8080/"
        },
        "id": "EWMTOl_zgyqU",
        "outputId": "f7fb6979-cee0-484c-8c1e-d81dccf3657c"
      },
      "execution_count": 85,
      "outputs": [
        {
          "output_type": "execute_result",
          "data": {
            "text/plain": [
              "<langgraph.graph.state.StateGraph at 0x7d4a591ce050>"
            ]
          },
          "metadata": {},
          "execution_count": 85
        }
      ]
    },
    {
      "cell_type": "code",
      "source": [
        "graph.add_edge(START, 'generate')\n",
        "graph.add_edge('generate', 'evaluate')\n",
        "graph.add_conditional_edges('evaluate', route_evaluation, {'approved': END, 'needs improvement': 'optimize'})\n",
        "graph.add_edge('optimize', 'evaluate')"
      ],
      "metadata": {
        "colab": {
          "base_uri": "https://localhost:8080/"
        },
        "id": "DhEt9Xb9kKwg",
        "outputId": "9682bd6b-9975-4e65-956f-6ba3fa4aaf81"
      },
      "execution_count": 86,
      "outputs": [
        {
          "output_type": "execute_result",
          "data": {
            "text/plain": [
              "<langgraph.graph.state.StateGraph at 0x7d4a591ce050>"
            ]
          },
          "metadata": {},
          "execution_count": 86
        }
      ]
    },
    {
      "cell_type": "code",
      "source": [
        "workflow = graph.compile()\n",
        "workflow"
      ],
      "metadata": {
        "colab": {
          "base_uri": "https://localhost:8080/",
          "height": 389
        },
        "id": "FCFGoR0hk233",
        "outputId": "612185b0-bcb1-4cef-fd9d-1e69aa15a4f9"
      },
      "execution_count": 87,
      "outputs": [
        {
          "output_type": "execute_result",
          "data": {
            "text/plain": [
              "<langgraph.graph.state.CompiledStateGraph object at 0x7d4a5837bd90>"
            ],
            "image/png": "[encoded data removed]"
          },
          "metadata": {},
          "execution_count": 87
        }
      ]
    },
    {
      "cell_type": "code",
      "source": [
        "initial_state = {\n",
        "    'topic': 'politics',\n",
        "    'tweet': '',\n",
        "    'evaluation': 'needs improvement',\n",
        "    'feedback': '',\n",
        "    'iteration': 1,\n",
        "    'max_iterations': 5,\n",
        "    'tweet_history': [],\n",
        "    'feedback_history': []\n",
        "}\n",
        "\n",
        "final_state = workflow.invoke(initial_state)"
      ],
      "metadata": {
        "id": "36om-tJlk7B3"
      },
      "execution_count": 88,
      "outputs": []
    },
    {
      "cell_type": "code",
      "source": [
        "print(final_state)"
      ],
      "metadata": {
        "colab": {
          "base_uri": "https://localhost:8080/"
        },
        "id": "h2dAvDkklPet",
        "outputId": "aa6afb3f-5403-46d5-be08-2451b10edb8d"
      },
      "execution_count": 89,
      "outputs": [
        {
          "output_type": "stream",
          "name": "stdout",
          "text": [
            "{'topic': 'politics', 'tweet': 'My 2016 political self is currently haunting my therapist. Send wine and maybe an exorcist. #PoliticalRegret #WineTherapy #SendHelp', 'evaluation': 'approved', 'feedback': 'The tweet displays a decent level of originality, humorously tapping into the relatable experience of political evolution and its psychological impact.  The self-deprecating tone and the call for \"wine and an exorcist\" add to its comedic effect. It\\'s punchy and concise, fitting within the character limit.  The hashtags are relevant and could boost virality. The format is well-suited for Twitter, avoiding typical pitfalls like question-answer structures or lengthy setups. Overall, it\\'s a solid tweet with good potential for engagement.', 'iteration': 4, 'max_iterations': 5, 'tweet_history': [\"My therapist told me to embrace my mistakes... so I'm embracing my entire political stance from 2016.  Send help (and maybe a time machine). #politicalregrets #stillnotsorry #sendwine\", 'Here are a few options for a revised tweet, aiming for increased humor and virality:\\n\\n**Option 1 (Self-aware & Absurd):**\\n\\n> My 2016 political opinions are haunting me.  Exorcism required.  (And maybe a really good Merlot.) #PoliticalGhost #RegrettingMyLifeChoices #WineTherapy\\n\\n\\n**Option 2 (More Cynical & Relatable):**\\n\\n> Therapists: \"Embrace your mistakes!\"  Me: *re-reads my 2016 Facebook posts*. Send tequila.  #PoliticalPast #Cringeworthy #HelpMe\\n\\n\\n**Option 3 (Short & Sweet):**\\n\\n> 2016 me: politically unhinged. 2024 me: send wine. #PoliticalEvolution #Oops #WineNot\\n\\n\\n**Option 4 (Playing on the \"time machine\" idea more effectively):**\\n\\n> I need a time machine, not therapy.  My 2016 political self needs a serious intervention (and a good bottle of Cabernet). #TimeTravelNeeded #PoliticalFail #SendWine\\n\\n\\nThese options try to improve the humor by:\\n\\n* **Strengthening the punchline:**  Instead of simply \"send wine,\" they integrate the wine desire more naturally into a more absurd or relatable scenario.\\n* **Using more specific and evocative hashtags:**  The new hashtags are more likely to attract engagement.\\n* **Improving the overall tone:** They aim for a more cynical, self-aware, or absurd tone to make the self-deprecation funnier.\\n\\n\\nThe key is to make the self-deprecation less of a simple statement and more of a comedic setup for a funnier punchline.', 'Here are a few options for a revised tweet, aiming for increased humor and virality:\\n\\n**Option 1 (Short & Sweet):**\\n\\n> My 2016 political self needs an exorcism...and a large Cabernet Sauvignon.  #PoliticalRegret #SendWine #HelpMe\\n\\n\\n**Option 2 (Absurdist):**\\n\\n> Time travel just to tell my 2016 self \"girl, BYOB to the next election.\" #PoliticalPast #Cringe #WineOClock\\n\\n\\n**Option 3 (Relatable & Cynical):**\\n\\n> Therapy is expensive.  Send wine. (My 2016 political takes are haunting me). #PoliticalHorror #WineTherapy #SendHelp\\n\\n\\n**Option 4 (Self-Deprecating):**\\n\\n> I\\'ve aged like fine wine...except my 2016 political opinions aged like milk.  #PoliticalEvolution #Oops #WineNeeded', 'My 2016 political self is currently haunting my therapist. Send wine and maybe an exorcist. #PoliticalRegret #WineTherapy #SendHelp'], 'feedback_history': ['The tweet shows a moderate level of originality in its self-deprecating humor concerning past political views. However, the humor is not strong enough to be genuinely funny; it relies too much on the current trend of mocking past political stances.  The tweet is punchy and within the character limit, which increases its virality potential.  The format is acceptable; it avoids question-answer formats or setup-punchline structures.  However, the hashtags are somewhat generic, and the ending request for \"send wine\" feels like a weak attempt at humor that undermines the overall impact.', 'This tweet is essentially a brainstorming session disguised as a tweet. It lacks originality, as the concept of people regretting their past political stances is overdone.  The humor is weak; the options presented are not particularly funny, relying heavily on tired tropes like \"send wine.\"  The length is excessive, violating the character limit and making it unsuitable for Twitter.  Virality is low due to the lack of a strong, concise, and engaging hook.  The format is poor; it presents multiple options instead of a single, punchy tweet, making it cumbersome for the reader.', 'The tweet is a collection of tweet options rather than a single tweet.  While the individual options show some potential for humor and virality (especially Option 1 and 2), they lack originality; the \"regretting past political opinions\" theme is overdone.  The format is also problematic; it\\'s not a single tweet, making it unsuitable for direct evaluation.  To improve, choose one option, refine it to be more concise and punchier, and ensure it avoids clichés.', 'The tweet displays a decent level of originality, humorously tapping into the relatable experience of political evolution and its psychological impact.  The self-deprecating tone and the call for \"wine and an exorcist\" add to its comedic effect. It\\'s punchy and concise, fitting within the character limit.  The hashtags are relevant and could boost virality. The format is well-suited for Twitter, avoiding typical pitfalls like question-answer structures or lengthy setups. Overall, it\\'s a solid tweet with good potential for engagement.']}\n"
          ]
        }
      ]
    }
  ]
}