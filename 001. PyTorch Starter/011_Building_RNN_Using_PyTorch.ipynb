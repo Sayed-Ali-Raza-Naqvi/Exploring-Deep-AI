{
  "nbformat": 4,
  "nbformat_minor": 0,
  "metadata": {
    "colab": {
      "provenance": []
    },
    "kernelspec": {
      "name": "python3",
      "display_name": "Python 3"
    },
    "language_info": {
      "name": "python"
    }
  },
  "cells": [
    {
      "cell_type": "markdown",
      "source": [
        "# **Building a Simple Recurrent Neural Network for Question-Answering**\n",
        "---"
      ],
      "metadata": {
        "id": "dv24hZJrNlhB"
      }
    },
    {
      "cell_type": "markdown",
      "source": [
        "## **Overview**\n",
        ">This project implements a basic Recurrent Neural Network (RNN) for question-answering using PyTorch. The dataset consists of 100 unique question-answer pairs, which are preprocessed to build a vocabulary and convert text into numerical representations. A custom PyTorch Dataset class is created to handle tokenized inputs, and a DataLoader is used for batching and shuffling the data. The model consists of an embedding layer, an RNN layer, and a fully connected output layer, trained using the cross-entropy loss function and Adam optimizer. After training for 20 epochs, the model is tested by predicting answers to new questions. If the confidence level is below a set threshold, the model responds with \"I don't know.\" This project demonstrates a foundational approach to natural language processing (NLP) using RNNs, highlighting key steps such as text tokenization, vocabulary building, dataset preparation, model training, and inference."
      ],
      "metadata": {
        "id": "M_H6eLvDNoRG"
      }
    },
    {
      "cell_type": "markdown",
      "source": [
        "---\n",
        "## **Import Dependencies**\n",
        "- `pandas`: For loading and processing the dataset.\n",
        "- `torch`: Core PyTorch library for deep learning.\n",
        "- `Dataset`, `DataLoader`: Tools to create and manage training data.\n",
        "- `nn`: PyTorch’s module for building neural networks."
      ],
      "metadata": {
        "id": "Or7y6TFsNueR"
      }
    },
    {
      "cell_type": "code",
      "execution_count": 43,
      "metadata": {
        "id": "hC_b2fAt0V36"
      },
      "outputs": [],
      "source": [
        "import pandas as pd\n",
        "\n",
        "import torch\n",
        "from torch.utils.data import Dataset, DataLoader\n",
        "import torch.nn as nn"
      ]
    },
    {
      "cell_type": "markdown",
      "source": [
        "---\n",
        "## **Load and Inspect the Dataset**\n",
        "- Loads a CSV file containing 100 QA pairs.\n",
        "- Displays the first few rows.\n"
      ],
      "metadata": {
        "id": "NmIdmbMlN5ZE"
      }
    },
    {
      "cell_type": "code",
      "source": [
        "df = pd.read_csv(\"/content/100_Unique_QA_Dataset.csv\")"
      ],
      "metadata": {
        "id": "qFdQGBTb73vu"
      },
      "execution_count": 44,
      "outputs": []
    },
    {
      "cell_type": "code",
      "source": [
        "df.head()"
      ],
      "metadata": {
        "colab": {
          "base_uri": "https://localhost:8080/",
          "height": 206
        },
        "id": "BDs53pIs77UF",
        "outputId": "6e3c86a4-7249-4aec-b10c-cab6bdbc71de"
      },
      "execution_count": 45,
      "outputs": [
        {
          "output_type": "execute_result",
          "data": {
            "text/plain": [
              "                                          question      answer\n",
              "0                   What is the capital of France?       Paris\n",
              "1                  What is the capital of Germany?      Berlin\n",
              "2               Who wrote 'To Kill a Mockingbird'?  Harper-Lee\n",
              "3  What is the largest planet in our solar system?     Jupiter\n",
              "4   What is the boiling point of water in Celsius?         100"
            ],
            "text/html": [
              "\n",
              "  <div id=\"df-fa563f7d-ebd0-4906-8f1b-b93f51893853\" class=\"colab-df-container\">\n",
              "    <div>\n",
              "<style scoped>\n",
              "    .dataframe tbody tr th:only-of-type {\n",
              "        vertical-align: middle;\n",
              "    }\n",
              "\n",
              "    .dataframe tbody tr th {\n",
              "        vertical-align: top;\n",
              "    }\n",
              "\n",
              "    .dataframe thead th {\n",
              "        text-align: right;\n",
              "    }\n",
              "</style>\n",
              "<table border=\"1\" class=\"dataframe\">\n",
              "  <thead>\n",
              "    <tr style=\"text-align: right;\">\n",
              "      <th></th>\n",
              "      <th>question</th>\n",
              "      <th>answer</th>\n",
              "    </tr>\n",
              "  </thead>\n",
              "  <tbody>\n",
              "    <tr>\n",
              "      <th>0</th>\n",
              "      <td>What is the capital of France?</td>\n",
              "      <td>Paris</td>\n",
              "    </tr>\n",
              "    <tr>\n",
              "      <th>1</th>\n",
              "      <td>What is the capital of Germany?</td>\n",
              "      <td>Berlin</td>\n",
              "    </tr>\n",
              "    <tr>\n",
              "      <th>2</th>\n",
              "      <td>Who wrote 'To Kill a Mockingbird'?</td>\n",
              "      <td>Harper-Lee</td>\n",
              "    </tr>\n",
              "    <tr>\n",
              "      <th>3</th>\n",
              "      <td>What is the largest planet in our solar system?</td>\n",
              "      <td>Jupiter</td>\n",
              "    </tr>\n",
              "    <tr>\n",
              "      <th>4</th>\n",
              "      <td>What is the boiling point of water in Celsius?</td>\n",
              "      <td>100</td>\n",
              "    </tr>\n",
              "  </tbody>\n",
              "</table>\n",
              "</div>\n",
              "    <div class=\"colab-df-buttons\">\n",
              "\n",
              "  <div class=\"colab-df-container\">\n",
              "    <button class=\"colab-df-convert\" onclick=\"convertToInteractive('df-fa563f7d-ebd0-4906-8f1b-b93f51893853')\"\n",
              "            title=\"Convert this dataframe to an interactive table.\"\n",
              "            style=\"display:none;\">\n",
              "\n",
              "  <svg xmlns=\"http://www.w3.org/2000/svg\" height=\"24px\" viewBox=\"0 -960 960 960\">\n",
              "    <path d=\"M120-120v-720h720v720H120Zm60-500h600v-160H180v160Zm220 220h160v-160H400v160Zm0 220h160v-160H400v160ZM180-400h160v-160H180v160Zm440 0h160v-160H620v160ZM180-180h160v-160H180v160Zm440 0h160v-160H620v160Z\"/>\n",
              "  </svg>\n",
              "    </button>\n",
              "\n",
              "  <style>\n",
              "    .colab-df-container {\n",
              "      display:flex;\n",
              "      gap: 12px;\n",
              "    }\n",
              "\n",
              "    .colab-df-convert {\n",
              "      background-color: #E8F0FE;\n",
              "      border: none;\n",
              "      border-radius: 50%;\n",
              "      cursor: pointer;\n",
              "      display: none;\n",
              "      fill: #1967D2;\n",
              "      height: 32px;\n",
              "      padding: 0 0 0 0;\n",
              "      width: 32px;\n",
              "    }\n",
              "\n",
              "    .colab-df-convert:hover {\n",
              "      background-color: #E2EBFA;\n",
              "      box-shadow: 0px 1px 2px rgba(60, 64, 67, 0.3), 0px 1px 3px 1px rgba(60, 64, 67, 0.15);\n",
              "      fill: #174EA6;\n",
              "    }\n",
              "\n",
              "    .colab-df-buttons div {\n",
              "      margin-bottom: 4px;\n",
              "    }\n",
              "\n",
              "    [theme=dark] .colab-df-convert {\n",
              "      background-color: #3B4455;\n",
              "      fill: #D2E3FC;\n",
              "    }\n",
              "\n",
              "    [theme=dark] .colab-df-convert:hover {\n",
              "      background-color: #434B5C;\n",
              "      box-shadow: 0px 1px 3px 1px rgba(0, 0, 0, 0.15);\n",
              "      filter: drop-shadow(0px 1px 2px rgba(0, 0, 0, 0.3));\n",
              "      fill: #FFFFFF;\n",
              "    }\n",
              "  </style>\n",
              "\n",
              "    <script>\n",
              "      const buttonEl =\n",
              "        document.querySelector('#df-fa563f7d-ebd0-4906-8f1b-b93f51893853 button.colab-df-convert');\n",
              "      buttonEl.style.display =\n",
              "        google.colab.kernel.accessAllowed ? 'block' : 'none';\n",
              "\n",
              "      async function convertToInteractive(key) {\n",
              "        const element = document.querySelector('#df-fa563f7d-ebd0-4906-8f1b-b93f51893853');\n",
              "        const dataTable =\n",
              "          await google.colab.kernel.invokeFunction('convertToInteractive',\n",
              "                                                    [key], {});\n",
              "        if (!dataTable) return;\n",
              "\n",
              "        const docLinkHtml = 'Like what you see? Visit the ' +\n",
              "          '<a target=\"_blank\" href=https://colab.research.google.com/notebooks/data_table.ipynb>data table notebook</a>'\n",
              "          + ' to learn more about interactive tables.';\n",
              "        element.innerHTML = '';\n",
              "        dataTable['output_type'] = 'display_data';\n",
              "        await google.colab.output.renderOutput(dataTable, element);\n",
              "        const docLink = document.createElement('div');\n",
              "        docLink.innerHTML = docLinkHtml;\n",
              "        element.appendChild(docLink);\n",
              "      }\n",
              "    </script>\n",
              "  </div>\n",
              "\n",
              "\n",
              "<div id=\"df-27304684-8cf3-4551-adc3-e3976267ad22\">\n",
              "  <button class=\"colab-df-quickchart\" onclick=\"quickchart('df-27304684-8cf3-4551-adc3-e3976267ad22')\"\n",
              "            title=\"Suggest charts\"\n",
              "            style=\"display:none;\">\n",
              "\n",
              "<svg xmlns=\"http://www.w3.org/2000/svg\" height=\"24px\"viewBox=\"0 0 24 24\"\n",
              "     width=\"24px\">\n",
              "    <g>\n",
              "        <path d=\"M19 3H5c-1.1 0-2 .9-2 2v14c0 1.1.9 2 2 2h14c1.1 0 2-.9 2-2V5c0-1.1-.9-2-2-2zM9 17H7v-7h2v7zm4 0h-2V7h2v10zm4 0h-2v-4h2v4z\"/>\n",
              "    </g>\n",
              "</svg>\n",
              "  </button>\n",
              "\n",
              "<style>\n",
              "  .colab-df-quickchart {\n",
              "      --bg-color: #E8F0FE;\n",
              "      --fill-color: #1967D2;\n",
              "      --hover-bg-color: #E2EBFA;\n",
              "      --hover-fill-color: #174EA6;\n",
              "      --disabled-fill-color: #AAA;\n",
              "      --disabled-bg-color: #DDD;\n",
              "  }\n",
              "\n",
              "  [theme=dark] .colab-df-quickchart {\n",
              "      --bg-color: #3B4455;\n",
              "      --fill-color: #D2E3FC;\n",
              "      --hover-bg-color: #434B5C;\n",
              "      --hover-fill-color: #FFFFFF;\n",
              "      --disabled-bg-color: #3B4455;\n",
              "      --disabled-fill-color: #666;\n",
              "  }\n",
              "\n",
              "  .colab-df-quickchart {\n",
              "    background-color: var(--bg-color);\n",
              "    border: none;\n",
              "    border-radius: 50%;\n",
              "    cursor: pointer;\n",
              "    display: none;\n",
              "    fill: var(--fill-color);\n",
              "    height: 32px;\n",
              "    padding: 0;\n",
              "    width: 32px;\n",
              "  }\n",
              "\n",
              "  .colab-df-quickchart:hover {\n",
              "    background-color: var(--hover-bg-color);\n",
              "    box-shadow: 0 1px 2px rgba(60, 64, 67, 0.3), 0 1px 3px 1px rgba(60, 64, 67, 0.15);\n",
              "    fill: var(--button-hover-fill-color);\n",
              "  }\n",
              "\n",
              "  .colab-df-quickchart-complete:disabled,\n",
              "  .colab-df-quickchart-complete:disabled:hover {\n",
              "    background-color: var(--disabled-bg-color);\n",
              "    fill: var(--disabled-fill-color);\n",
              "    box-shadow: none;\n",
              "  }\n",
              "\n",
              "  .colab-df-spinner {\n",
              "    border: 2px solid var(--fill-color);\n",
              "    border-color: transparent;\n",
              "    border-bottom-color: var(--fill-color);\n",
              "    animation:\n",
              "      spin 1s steps(1) infinite;\n",
              "  }\n",
              "\n",
              "  @keyframes spin {\n",
              "    0% {\n",
              "      border-color: transparent;\n",
              "      border-bottom-color: var(--fill-color);\n",
              "      border-left-color: var(--fill-color);\n",
              "    }\n",
              "    20% {\n",
              "      border-color: transparent;\n",
              "      border-left-color: var(--fill-color);\n",
              "      border-top-color: var(--fill-color);\n",
              "    }\n",
              "    30% {\n",
              "      border-color: transparent;\n",
              "      border-left-color: var(--fill-color);\n",
              "      border-top-color: var(--fill-color);\n",
              "      border-right-color: var(--fill-color);\n",
              "    }\n",
              "    40% {\n",
              "      border-color: transparent;\n",
              "      border-right-color: var(--fill-color);\n",
              "      border-top-color: var(--fill-color);\n",
              "    }\n",
              "    60% {\n",
              "      border-color: transparent;\n",
              "      border-right-color: var(--fill-color);\n",
              "    }\n",
              "    80% {\n",
              "      border-color: transparent;\n",
              "      border-right-color: var(--fill-color);\n",
              "      border-bottom-color: var(--fill-color);\n",
              "    }\n",
              "    90% {\n",
              "      border-color: transparent;\n",
              "      border-bottom-color: var(--fill-color);\n",
              "    }\n",
              "  }\n",
              "</style>\n",
              "\n",
              "  <script>\n",
              "    async function quickchart(key) {\n",
              "      const quickchartButtonEl =\n",
              "        document.querySelector('#' + key + ' button');\n",
              "      quickchartButtonEl.disabled = true;  // To prevent multiple clicks.\n",
              "      quickchartButtonEl.classList.add('colab-df-spinner');\n",
              "      try {\n",
              "        const charts = await google.colab.kernel.invokeFunction(\n",
              "            'suggestCharts', [key], {});\n",
              "      } catch (error) {\n",
              "        console.error('Error during call to suggestCharts:', error);\n",
              "      }\n",
              "      quickchartButtonEl.classList.remove('colab-df-spinner');\n",
              "      quickchartButtonEl.classList.add('colab-df-quickchart-complete');\n",
              "    }\n",
              "    (() => {\n",
              "      let quickchartButtonEl =\n",
              "        document.querySelector('#df-27304684-8cf3-4551-adc3-e3976267ad22 button');\n",
              "      quickchartButtonEl.style.display =\n",
              "        google.colab.kernel.accessAllowed ? 'block' : 'none';\n",
              "    })();\n",
              "  </script>\n",
              "</div>\n",
              "\n",
              "    </div>\n",
              "  </div>\n"
            ],
            "application/vnd.google.colaboratory.intrinsic+json": {
              "type": "dataframe",
              "variable_name": "df",
              "summary": "{\n  \"name\": \"df\",\n  \"rows\": 90,\n  \"fields\": [\n    {\n      \"column\": \"question\",\n      \"properties\": {\n        \"dtype\": \"string\",\n        \"num_unique_values\": 90,\n        \"samples\": [\n          \"What is the currency of China?\",\n          \"What is the capital of Australia?\",\n          \"Who discovered electricity?\"\n        ],\n        \"semantic_type\": \"\",\n        \"description\": \"\"\n      }\n    },\n    {\n      \"column\": \"answer\",\n      \"properties\": {\n        \"dtype\": \"string\",\n        \"num_unique_values\": 85,\n        \"samples\": [\n          \"ChristopherColumbus\",\n          \"Paris\",\n          \"Christmas\"\n        ],\n        \"semantic_type\": \"\",\n        \"description\": \"\"\n      }\n    }\n  ]\n}"
            }
          },
          "metadata": {},
          "execution_count": 45
        }
      ]
    },
    {
      "cell_type": "markdown",
      "source": [
        "---\n",
        "## **Text Preprocessing**"
      ],
      "metadata": {
        "id": "S-X9lFP5N_bU"
      }
    },
    {
      "cell_type": "markdown",
      "source": [
        "### **Tokenization**\n",
        "- Converts text to lowercase.\n",
        "- Removes question marks and apostrophes.\n",
        "- Splits text into words (tokens)."
      ],
      "metadata": {
        "id": "jm39c760OFjN"
      }
    },
    {
      "cell_type": "code",
      "source": [
        "def tokenize(text):\n",
        "  text = text.lower()\n",
        "  text = text.replace(\"?\", \"\")\n",
        "  text = text.replace(\"'\", \"\")\n",
        "  return text.split()"
      ],
      "metadata": {
        "id": "npgqM0-R78A3"
      },
      "execution_count": 46,
      "outputs": []
    },
    {
      "cell_type": "markdown",
      "source": [
        "### **Vocabulary Building**\n",
        "- Initializes a vocabulary dictionary with an unknown token (<UNK>).\n",
        "- Iterates through all words in questions and answers to build the vocabulary."
      ],
      "metadata": {
        "id": "5zW4_xx-OK4M"
      }
    },
    {
      "cell_type": "code",
      "source": [
        "vocab = {\"<UNK>\": 0}\n",
        "\n",
        "def build_vocab(row):\n",
        "  tokenized_question = tokenize(row[\"question\"])\n",
        "  tokenized_answer = tokenize(row[\"answer\"])\n",
        "\n",
        "  merged_tokens = tokenized_question + tokenized_answer\n",
        "\n",
        "  for token in merged_tokens:\n",
        "    if token not in vocab:\n",
        "      vocab[token] = len(vocab)"
      ],
      "metadata": {
        "id": "cGptrzcy8Qi1"
      },
      "execution_count": 47,
      "outputs": []
    },
    {
      "cell_type": "code",
      "source": [
        "built_vocab = df.apply(build_vocab, axis=1)"
      ],
      "metadata": {
        "id": "_m88aYSf-fC7"
      },
      "execution_count": 48,
      "outputs": []
    },
    {
      "cell_type": "markdown",
      "source": [
        "### **Convert Text to Indices**\n",
        "- Converts a given text into numerical indices based on the vocabulary.\n",
        "- If a word is not in the vocabulary, it gets mapped to `<UNK>`."
      ],
      "metadata": {
        "id": "MInEdVRQOYEP"
      }
    },
    {
      "cell_type": "code",
      "source": [
        "def text_to_indices(text, vocab):\n",
        "  indexed_text = []\n",
        "\n",
        "  for token in tokenize(text):\n",
        "    if token in vocab:\n",
        "      indexed_text.append(vocab[token])\n",
        "    else:\n",
        "      indexed_text.append(vocab[\"<UNK>\"])\n",
        "\n",
        "  return indexed_text"
      ],
      "metadata": {
        "id": "CdoFiMTn-vKF"
      },
      "execution_count": 49,
      "outputs": []
    },
    {
      "cell_type": "markdown",
      "source": [
        "---\n",
        "## **Create a Custom Dataset**\n",
        "- Creates a custom dataset that:\n",
        " - Stores the dataframe and vocabulary.\n",
        " - Returns a numerical tensor representation of a question-answer pair."
      ],
      "metadata": {
        "id": "wzasddklOh3d"
      }
    },
    {
      "cell_type": "code",
      "source": [
        "class QADataset(Dataset):\n",
        "  def __init__(self, df, vocab):\n",
        "    self.df = df\n",
        "    self.vocab = vocab\n",
        "\n",
        "  def __len__(self):\n",
        "    return len(self.df)\n",
        "\n",
        "  def __getitem__(self, index):\n",
        "    self.row = self.df.iloc[index]\n",
        "\n",
        "    num_question = text_to_indices(self.row[\"question\"], self.vocab)\n",
        "    num_answer = text_to_indices(self.row[\"answer\"], self.vocab)\n",
        "\n",
        "    return torch.tensor(num_question), torch.tensor(num_answer)"
      ],
      "metadata": {
        "id": "wrBGJWiG_cqy"
      },
      "execution_count": 50,
      "outputs": []
    },
    {
      "cell_type": "markdown",
      "source": [
        "---\n",
        "## **Prepare the DataLoader**\n",
        "- Wraps the dataset in a DataLoader to iterate efficiently during training."
      ],
      "metadata": {
        "id": "FSw1RodDOuCF"
      }
    },
    {
      "cell_type": "code",
      "source": [
        "dataset = QADataset(df, vocab)"
      ],
      "metadata": {
        "id": "w2iW2211AdcI"
      },
      "execution_count": 51,
      "outputs": []
    },
    {
      "cell_type": "code",
      "source": [
        "dataloader = DataLoader(dataset, batch_size=1, shuffle=True)"
      ],
      "metadata": {
        "id": "k35RZIllAgHD"
      },
      "execution_count": 52,
      "outputs": []
    },
    {
      "cell_type": "markdown",
      "source": [
        "---\n",
        "## **Define the RNN Model**\n",
        "- **Embedding layer**: Converts word indices into dense vector representations (50-dimensional).\n",
        "- **RNN layer**: Processes the embeddings using 64 hidden units.\n",
        "- **Fully connected layer**: Outputs logits (unnormalized probabilities) for each word in the vocabulary.\n"
      ],
      "metadata": {
        "id": "9g5_6UYWOyWC"
      }
    },
    {
      "cell_type": "code",
      "source": [
        "class RecurrentNeuralNetwork(nn.Module):\n",
        "  def __init__(self, vocab_size):\n",
        "    super().__init__()\n",
        "\n",
        "    self.embedding = nn.Embedding(vocab_size, embedding_dim=50)\n",
        "    self.rnn = nn.RNN(50, 64, batch_first=True)\n",
        "    self.fc = nn.Linear(64, vocab_size)\n",
        "\n",
        "  def forward(self, x):\n",
        "    embedded = self.embedding(x)\n",
        "    hidden, final = self.rnn(embedded)\n",
        "    output = self.fc(final.squeeze(0))\n",
        "\n",
        "    return output"
      ],
      "metadata": {
        "id": "EaRaZVZ1Aj_r"
      },
      "execution_count": 53,
      "outputs": []
    },
    {
      "cell_type": "markdown",
      "source": [
        "---\n",
        "## **Train the Model**\n",
        "- **Hyperparameters**:\n",
        " - **Learning rate** = 0.001\n",
        " - **Number of epochs** = 20\n",
        "- **Loss function**: CrossEntropyLoss (used for classification tasks).\n",
        "- **Optimizer**: Adam optimizer for efficient learning.\n",
        "- **Training loop**:\n",
        " - Zeroes gradients.\n",
        " - Performs forward propagation.\n",
        " - Computes loss between predicted and actual answer.\n",
        " - Performs backpropagation and updates weights.\n",
        " - Tracks the average loss per epoch."
      ],
      "metadata": {
        "id": "e92dbq_wO_xg"
      }
    },
    {
      "cell_type": "code",
      "source": [
        "learning_rate = 0.001\n",
        "epochs = 20"
      ],
      "metadata": {
        "id": "KE630nF7ElV1"
      },
      "execution_count": 54,
      "outputs": []
    },
    {
      "cell_type": "code",
      "source": [
        "model = RecurrentNeuralNetwork(len(vocab))\n",
        "criterion = nn.CrossEntropyLoss()\n",
        "optimizer = torch.optim.Adam(model.parameters(), lr=learning_rate)"
      ],
      "metadata": {
        "id": "BSy8-MPlEoqQ"
      },
      "execution_count": 55,
      "outputs": []
    },
    {
      "cell_type": "code",
      "source": [
        "for epoch in range(epochs):\n",
        "  total_loss = 0\n",
        "\n",
        "  for question, answer in dataloader:\n",
        "    optimizer.zero_grad()\n",
        "    output = model(question)\n",
        "    loss = criterion(output, answer[0])\n",
        "    loss.backward()\n",
        "    optimizer.step()\n",
        "    total_loss += loss.item()\n",
        "\n",
        "  print(f\"Epoch {epoch+1}/{epochs}, Loss: {total_loss/len(dataloader):4f}\")"
      ],
      "metadata": {
        "colab": {
          "base_uri": "https://localhost:8080/"
        },
        "id": "IF1iFI0bE2co",
        "outputId": "9f875df4-b5e0-4fcf-dc26-d357d39eaf21"
      },
      "execution_count": 56,
      "outputs": [
        {
          "output_type": "stream",
          "name": "stdout",
          "text": [
            "Epoch 1/20, Loss: 5.853919\n",
            "Epoch 2/20, Loss: 5.030995\n",
            "Epoch 3/20, Loss: 4.145952\n",
            "Epoch 4/20, Loss: 3.493195\n",
            "Epoch 5/20, Loss: 2.926808\n",
            "Epoch 6/20, Loss: 2.388752\n",
            "Epoch 7/20, Loss: 1.904426\n",
            "Epoch 8/20, Loss: 1.469875\n",
            "Epoch 9/20, Loss: 1.120488\n",
            "Epoch 10/20, Loss: 0.854185\n",
            "Epoch 11/20, Loss: 0.655832\n",
            "Epoch 12/20, Loss: 0.513684\n",
            "Epoch 13/20, Loss: 0.407700\n",
            "Epoch 14/20, Loss: 0.328897\n",
            "Epoch 15/20, Loss: 0.272507\n",
            "Epoch 16/20, Loss: 0.224546\n",
            "Epoch 17/20, Loss: 0.191174\n",
            "Epoch 18/20, Loss: 0.164953\n",
            "Epoch 19/20, Loss: 0.144087\n",
            "Epoch 20/20, Loss: 0.124229\n"
          ]
        }
      ]
    },
    {
      "cell_type": "markdown",
      "source": [
        "---\n",
        "## **Predict Answer to a New Question**\n",
        "- Converts a question into numerical indices.\n",
        "- Passes the tensor through the trained model.\n",
        "- Applies softmax activation to get probabilities.\n",
        "- Retrieves the word with the highest probability.\n",
        "- If the confidence is below the threshold (0.5), it prints `\"I don't know.\"`"
      ],
      "metadata": {
        "id": "ZBazIvRiPTmn"
      }
    },
    {
      "cell_type": "code",
      "source": [
        "def predict(model, question, threshold=0.5):\n",
        "  num_question = text_to_indices(question, vocab)\n",
        "  tensor_question = torch.tensor(num_question).unsqueeze(0)\n",
        "  output = model(tensor_question)\n",
        "  probabilities = torch.nn.functional.softmax(output, dim=1)\n",
        "  value, index = torch.max(probabilities, dim=1)\n",
        "\n",
        "  if value < threshold:\n",
        "    print(\"I don't know.\")\n",
        "  else:\n",
        "    print(list(vocab.keys())[index])"
      ],
      "metadata": {
        "id": "OH5Ga6jfG7RB"
      },
      "execution_count": 61,
      "outputs": []
    },
    {
      "cell_type": "markdown",
      "source": [
        "---\n",
        "### **Example Predictions**\n",
        "- The model predicts answers based on learned representations."
      ],
      "metadata": {
        "id": "M9mavOZxPen0"
      }
    },
    {
      "cell_type": "code",
      "source": [
        "predict(model, \"Who wrote 'To Kill a Mockingbird'?\")"
      ],
      "metadata": {
        "colab": {
          "base_uri": "https://localhost:8080/"
        },
        "id": "h-nmucheJs-Q",
        "outputId": "8775a4b5-5bcc-4149-80c5-fb36c4009ef3"
      },
      "execution_count": 62,
      "outputs": [
        {
          "output_type": "stream",
          "name": "stdout",
          "text": [
            "harper-lee\n"
          ]
        }
      ]
    },
    {
      "cell_type": "code",
      "source": [
        "predict(model, \"Where is Islamabad situated?\")"
      ],
      "metadata": {
        "colab": {
          "base_uri": "https://localhost:8080/"
        },
        "id": "Vd-CWhD_Miap",
        "outputId": "2decb2e8-ca0e-4cef-a378-57f4064f0c52"
      },
      "execution_count": 63,
      "outputs": [
        {
          "output_type": "stream",
          "name": "stdout",
          "text": [
            "I don't know.\n"
          ]
        }
      ]
    }
  ]
}